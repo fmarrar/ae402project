{
 "cells": [
  {
   "cell_type": "code",
   "execution_count": 1,
   "id": "nearby-prompt",
   "metadata": {},
   "outputs": [],
   "source": [
    "import numpy as np\n",
    "import sympy as sym\n",
    "from numpy import cos, sin, sqrt, radians, degrees, pi, arcsin,arccos, tan\n",
    "from numpy.linalg import norm\n",
    "from scipy.optimize import fsolve"
   ]
  },
  {
   "cell_type": "markdown",
   "id": "ordinary-bicycle",
   "metadata": {},
   "source": [
    "## Lambert's Problem"
   ]
  },
  {
   "cell_type": "code",
   "execution_count": 2,
   "id": "floral-heather",
   "metadata": {},
   "outputs": [],
   "source": [
    "def Lambert(r1, r2, theta, t):\n",
    "    \"\"\"\n",
    "    r1: initial position, in AU\n",
    "    r2: final position, in AU\n",
    "    theta: transfer angle, in degrees\n",
    "    t: time of flight, in TU\n",
    "    returns a, e\n",
    "    \"\"\"\n",
    "    theta = radians(theta)\n",
    "    \n",
    "    # Calculating the chord and semiperimeter\n",
    "    c = sqrt(r1**2 + r2**2 - 2*r1*r2*cos(theta))\n",
    "    s = (r1 + r2 + c)/2\n",
    "    betam = 2*arcsin(sqrt((s-c)/s))\n",
    "    \n",
    "    # Calculate the minimum flight time possible, which is the parabolic trajectory, tp\n",
    "    tp = sqrt(2)/3 * (s**1.5 - np.sign(sin(theta))*(s - c)**1.5)\n",
    "    \n",
    "    # Calculate the minimum energy time, tm\n",
    "    \n",
    "    tm = sqrt(s**3/8) * (pi - betam + sin(betam))\n",
    "    \n",
    "    # Check if the given time of flight is greater than the parabolic time of flight\n",
    "    if t < tp:\n",
    "        return f'Time of flight not possible with a Lambert trajectory. Choose a time greater than {tp} TU'\n",
    "    elif t > tp:\n",
    "        # Create the function that solves for the time of flight\n",
    "        def TOF(a):\n",
    "            alpha0 = 2*arcsin(sqrt(s/(2*a)))\n",
    "            beta0 = 2*arcsin(sqrt((s-c)/(2*a)))\n",
    "            \n",
    "            # Check the cases from figure 5.7\n",
    "            if np.degrees(theta) < 180 or np.degrees(theta) == 180:\n",
    "                beta = beta0\n",
    "            elif np.degrees(theta) > 180:\n",
    "                beta = - beta0\n",
    "            \n",
    "            if t < tm:\n",
    "                alpha = alpha0\n",
    "            elif t > tm:\n",
    "                alpha = 2*pi - alpha0\n",
    "                \n",
    "            return t - a**1.5 *(alpha - beta - (sin(alpha) - sin(beta)))\n",
    "        \n",
    "        # Modify the initial guess depending on the mission\n",
    "        a = fsolve(TOF, 1.5)\n",
    "        \n",
    "        alpha0 = 2*arcsin(sqrt(s/(2*a)))\n",
    "        beta0 = 2*arcsin(sqrt((s-c)/(2*a)))\n",
    "        if np.degrees(theta) < 180 or np.degrees(theta) == 180:\n",
    "            beta = beta0\n",
    "        elif np.degrees(theta) > 180:\n",
    "            beta = - beta0\n",
    "\n",
    "        if t < tm:\n",
    "            alpha = alpha0\n",
    "        elif t > tm:\n",
    "            alpha = 2*pi - alpha0\n",
    "        \n",
    "        term = (4*(s - r1)*(s - r2))/c**2 * (sin((alpha + beta)/2))**2\n",
    "        \n",
    "        # Eccentricity\n",
    "        e = sqrt(1 - term)\n",
    "        \n",
    "        A = sqrt(1/(4*a)) * 1/tan(alpha/2)\n",
    "        B = sqrt(1/(4*a)) * 1/tan(beta/2)\n",
    "        \n",
    "        # Assuming departure occurs at periapsis\n",
    "        u1 = np.array([1, 0])\n",
    "        u2 = np.array([cos(theta), sin(theta)])\n",
    "        \n",
    "        # Using the law of sines to calculate the angle between the space fixed i and u_c\n",
    "        \n",
    "        theta_c = arcsin(sin(radians(theta))/c * r2)\n",
    "        \n",
    "        uc = np.array([cos(np.pi - theta_c), sin(np.pi - theta_c)])\n",
    "        \n",
    "        v1 = (B + A)*uc + (B - A)*u1\n",
    "        v2 = (B + A)*uc - (B - A)*u2\n",
    "        \n",
    "        return a, e, v1, v2"
   ]
  },
  {
   "cell_type": "markdown",
   "id": "66d262e8",
   "metadata": {},
   "source": [
    "## Case 1: Earth to Mars through a transfer angle of 75°"
   ]
  },
  {
   "cell_type": "markdown",
   "id": "56fcd683",
   "metadata": {},
   "source": [
    "$t_f = 1y = 2\\pi \\rm\\ TU$"
   ]
  },
  {
   "cell_type": "code",
   "execution_count": 3,
   "id": "touched-calvin",
   "metadata": {},
   "outputs": [
    {
     "name": "stdout",
     "output_type": "stream",
     "text": [
      "Semimajor axis: 1.2311 AU \n",
      "\n",
      "Eccentricity: 0.7918 \n",
      "\n",
      "Departure velocity: [0.3996 0.016 ] AU/TU \n",
      "\n",
      "Arrival velocity: [-1.0257 -1.0776] AU/TU \n",
      "\n",
      "Delta v1: -0.6 AU/TU \n",
      "\n",
      "Delta v2: -0.6777 AU/TU\n"
     ]
    }
   ],
   "source": [
    "r1 = 1\n",
    "r2 = 1.524\n",
    "theta = 75\n",
    "t = 2*np.pi\n",
    "\n",
    "[a, e, v1, v2] = Lambert(r1, r2, theta, t)\n",
    "\n",
    "a = a[0]\n",
    "e = e[0]\n",
    "\n",
    "print(f'Semimajor axis: {np.round(a, 4)} AU \\n')\n",
    "print(f'Eccentricity: {np.round(e, 4)} \\n')\n",
    "print(f'Departure velocity: {np.round(v1, 4)} AU/TU \\n')\n",
    "print(f'Arrival velocity: {np.round(v2, 4)} AU/TU \\n')\n",
    "\n",
    "# Assuming circular orbit:\n",
    "\n",
    "dv1 = norm(v1) - sqrt(1/r1)\n",
    "dv2 = sqrt(1/r2) - norm(v2)\n",
    "\n",
    "print(f'Delta v1: {np.round(dv1, 4)} AU/TU \\n')\n",
    "print(f'Delta v2: {np.round(dv2, 4)} AU/TU')"
   ]
  },
  {
   "cell_type": "markdown",
   "id": "5943b65b",
   "metadata": {},
   "source": [
    "## Case 2: Earth to Mars through a transfer angle of 75°"
   ]
  },
  {
   "cell_type": "markdown",
   "id": "7dade238",
   "metadata": {},
   "source": [
    "$t_f = 115d = 1.97963 \\rm\\ TU$"
   ]
  },
  {
   "cell_type": "code",
   "execution_count": 4,
   "id": "a87f3407",
   "metadata": {},
   "outputs": [
    {
     "name": "stdout",
     "output_type": "stream",
     "text": [
      "Semimajor axis: 1.2312 AU \n",
      "\n",
      "Eccentricity: 0.3306 \n",
      "\n",
      "Departure velocity: [-0.3993  0.0248] AU/TU \n",
      "\n",
      "Arrival velocity: [-1.3217 -0.683 ] AU/TU \n",
      "\n",
      "Delta v1: -0.5999 AU/TU \n",
      "\n",
      "Delta v2: -0.6777 AU/TU\n"
     ]
    }
   ],
   "source": [
    "r1 = 1\n",
    "r2 = 1.524\n",
    "theta = 75\n",
    "t = 1.97963\n",
    "\n",
    "[a, e, v1, v2] = Lambert(r1, r2, theta, t)\n",
    "\n",
    "a = a[0]\n",
    "e = e[0]\n",
    "\n",
    "print(f'Semimajor axis: {np.round(a, 4)} AU \\n')\n",
    "print(f'Eccentricity: {np.round(e, 4)} \\n')\n",
    "print(f'Departure velocity: {np.round(v1, 4)} AU/TU \\n')\n",
    "print(f'Arrival velocity: {np.round(v2, 4)} AU/TU \\n')\n",
    "\n",
    "# Assuming circular orbit:\n",
    "\n",
    "dv1 = norm(v1) - sqrt(1/r1)\n",
    "dv2 = sqrt(1/r2) - norm(v2)\n",
    "\n",
    "print(f'Delta v1: {np.round(dv1, 4)} AU/TU \\n')\n",
    "print(f'Delta v2: {np.round(dv2, 4)} AU/TU')"
   ]
  },
  {
   "cell_type": "markdown",
   "id": "b7756178",
   "metadata": {},
   "source": [
    "## Case 3: Earth to Venus through a transfer angle of 135°"
   ]
  },
  {
   "cell_type": "markdown",
   "id": "6f7b27d1",
   "metadata": {},
   "source": [
    "$t_f = 337.6d= 5.8115 \\rm\\ TU$"
   ]
  },
  {
   "cell_type": "code",
   "execution_count": 5,
   "id": "8b227802",
   "metadata": {},
   "outputs": [
    {
     "name": "stdout",
     "output_type": "stream",
     "text": [
      "Semimajor axis: 1.1004 AU \n",
      "\n",
      "Eccentricity: 0.6506 \n",
      "\n",
      "Departure velocity: [0.5451 0.0463] AU/TU \n",
      "\n",
      "Arrival velocity: [-0.3426 -2.0966] AU/TU \n",
      "\n",
      "Delta v1: -0.4529 AU/TU \n",
      "\n",
      "Delta v2: -0.9484 AU/TU\n"
     ]
    }
   ],
   "source": [
    "r1 = 1\n",
    "r2 = 0.723\n",
    "theta = 135\n",
    "t = 5.8115\n",
    "\n",
    "[a, e, v1, v2] = Lambert(r1, r2, theta, t)\n",
    "\n",
    "a = a[0]\n",
    "e = e[0]\n",
    "\n",
    "print(f'Semimajor axis: {np.round(a, 4)} AU \\n')\n",
    "print(f'Eccentricity: {np.round(e, 4)} \\n')\n",
    "print(f'Departure velocity: {np.round(v1, 4)} AU/TU \\n')\n",
    "print(f'Arrival velocity: {np.round(v2, 4)} AU/TU \\n')\n",
    "\n",
    "# Assuming circular orbit:\n",
    "\n",
    "dv1 = norm(v1) - sqrt(1/r1)\n",
    "dv2 = sqrt(1/r2) - norm(v2)\n",
    "\n",
    "print(f'Delta v1: {np.round(dv1, 4)} AU/TU \\n')\n",
    "print(f'Delta v2: {np.round(dv2, 4)} AU/TU')"
   ]
  }
 ],
 "metadata": {
  "kernelspec": {
   "display_name": "Python 3",
   "language": "python",
   "name": "python3"
  },
  "language_info": {
   "codemirror_mode": {
    "name": "ipython",
    "version": 3
   },
   "file_extension": ".py",
   "mimetype": "text/x-python",
   "name": "python",
   "nbconvert_exporter": "python",
   "pygments_lexer": "ipython3",
   "version": "3.8.8"
  }
 },
 "nbformat": 4,
 "nbformat_minor": 5
}
