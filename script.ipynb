{
 "cells": [
  {
   "cell_type": "code",
   "execution_count": 3,
   "id": "nearby-prompt",
   "metadata": {},
   "outputs": [],
   "source": [
    "import numpy as np\n",
    "import sympy as sym\n",
    "from numpy import cos, sin, sqrt, radians, degrees, pi, arcsin,arccos, tan\n",
    "from numpy.linalg import norm\n",
    "from scipy.optimize import fsolve"
   ]
  },
  {
   "cell_type": "markdown",
   "id": "ordinary-bicycle",
   "metadata": {},
   "source": [
    "## Lambert's Problem"
   ]
  },
  {
   "cell_type": "code",
   "execution_count": 31,
   "id": "floral-heather",
   "metadata": {},
   "outputs": [],
   "source": [
    "def Lambert(r1, r2, theta, t):\n",
    "    \"\"\"\n",
    "    r1: initial position, in AU\n",
    "    r2: final position, in AU\n",
    "    theta: transfer angle, in degrees\n",
    "    t: time of flight, in TU\n",
    "    returns a, e\n",
    "    \"\"\"\n",
    "    theta = radians(theta)\n",
    "    \n",
    "    # Calculating the chord and semiperimeter\n",
    "    c = sqrt(r1**2 + r2**2 - 2*r1*r2*cos(theta))\n",
    "    s = (r1 + r2 + c)/2\n",
    "    betam = 2*arcsin(sqrt((s-c)/s))\n",
    "    \n",
    "    # Calculate the minimum flight time possible, which is the parabolic trajectory, tp\n",
    "    tp = sqrt(2)/3 * (s**1.5 - np.sign(sin(theta))*(s - c)**1.5)\n",
    "    \n",
    "    # Calculate the minimum energy time, tm\n",
    "    \n",
    "    tm = sqrt(s**3/8) * (pi - betam + sin(betam))\n",
    "    \n",
    "    # Check if the given time of flight is greater or not\n",
    "    if t < tp:\n",
    "        return f'Time of flight not possible with a Lambert trajectory. Choose a time greater than {tp} TU'\n",
    "    elif t > tp:\n",
    "        # Create the function that solves for the time of flight\n",
    "        def TOF(a):\n",
    "            alpha0 = 2*arcsin(sqrt(s/(2*a)))\n",
    "            beta0 = 2*arcsin(sqrt((s-c)/(2*a)))\n",
    "            if theta < 180 or theta == 180:\n",
    "                beta = beta0\n",
    "            elif theta > 180:\n",
    "                beta = - beta0\n",
    "            \n",
    "            if t < tm:\n",
    "                alpha = alpha0\n",
    "            elif t > tm:\n",
    "                alpha = 2*pi - alpha0\n",
    "                \n",
    "            return t - a**1.5 *(alpha - beta - (sin(alpha) - sin(beta)))\n",
    "        \n",
    "        a = fsolve(TOF, 50)\n",
    "        \n",
    "        alpha0 = 2*arcsin(sqrt(s/(2*a)))\n",
    "        beta0 = 2*arcsin(sqrt((s-c)/(2*a)))\n",
    "        if theta < 180 or theta == 180:\n",
    "            beta = beta0\n",
    "        elif theta > 180:\n",
    "            beta = - beta0\n",
    "\n",
    "        if t < tm:\n",
    "            alpha = alpha0\n",
    "        elif t > tm:\n",
    "            alpha = 2*pi - alpha0\n",
    "        \n",
    "        term = (4*(s - r1)*(s - r2))/c**2 * (sin((alpha + beta)/2))**2\n",
    "        \n",
    "        e = sqrt(1 - term)\n",
    "        \n",
    "        A = sqrt(1/(4*a)) * 1/tan(alpha/2)\n",
    "        B = sqrt(1/(4*a)) * 1/tan(beta/2)\n",
    "        \n",
    "        u1 = np.array([1, 0])\n",
    "        u2 = np.array([cos(theta), sin(theta)])\n",
    "        \n",
    "        theta_c = arcsin(sin(radians(theta))/c * r2)\n",
    "        \n",
    "        uc = np.array([-cos(theta_c), sin(theta_c)])\n",
    "        \n",
    "        v1 = (B + A)*uc + (B - A)*u1\n",
    "        v2 = (B + A)*uc - (B - A)*u2\n",
    "        \n",
    "        return a, e, v1, v2"
   ]
  },
  {
   "cell_type": "code",
   "execution_count": 32,
   "id": "touched-calvin",
   "metadata": {},
   "outputs": [
    {
     "name": "stdout",
     "output_type": "stream",
     "text": [
      "Semimajor axis: 44.4418 AU \n",
      "\n",
      "Eccentricity: 0.993 \n",
      "\n",
      "Departure velocity: [0.1688 0.1183] AU/TU \n",
      "\n",
      "Arrival velocity: [-0.7288 -2.0486] AU/TU \n",
      "\n",
      "Delta v1: 0.6608 AU/TU \n",
      "\n",
      "Delta v2: -0.0086 AU/TU\n"
     ]
    }
   ],
   "source": [
    "r1 = 0.3871\n",
    "r2 = 39.5294\n",
    "theta = 135\n",
    "t = 100000 * 2*pi/365\n",
    "\n",
    "[a, e, v1, v2] = Lambert(r1, r2, theta, t)\n",
    "\n",
    "a = a[0]\n",
    "e = e[0]\n",
    "\n",
    "print(f'Semimajor axis: {np.round(a, 4)} AU \\n')\n",
    "print(f'Eccentricity: {np.round(e, 4)} \\n')\n",
    "print(f'Departure velocity: {np.round(v1, 4)} AU/TU \\n')\n",
    "print(f'Arrival velocity: {np.round(v2, 4)} AU/TU \\n')\n",
    "\n",
    "dv1 = sqrt(2/r1 - 1/a) - sqrt(1/r1)\n",
    "dv2 = sqrt(1/r2) - sqrt(2/r2 - 1/a)\n",
    "\n",
    "print(f'Delta v1: {np.round(dv1, 4)} AU/TU \\n')\n",
    "print(f'Delta v2: {np.round(dv2, 4)} AU/TU')"
   ]
  },
  {
   "cell_type": "markdown",
   "id": "passive-longitude",
   "metadata": {},
   "source": [
    "## Hohmann Transfer"
   ]
  },
  {
   "cell_type": "code",
   "execution_count": 21,
   "id": "everyday-remainder",
   "metadata": {},
   "outputs": [],
   "source": [
    "def Hohmann(r1, r2):\n",
    "    # The semimajor axis for Hohmann Transfer\n",
    "    a = (r1 + r2)/2\n",
    "    \n",
    "    dv1 = sqrt(2/r1 - 1/a) - sqrt(1/r1)\n",
    "    dv2 = sqrt(1/r2) - sqrt(2/r2 - 1/a)\n",
    "    \n",
    "    return dv1, dv2"
   ]
  },
  {
   "cell_type": "code",
   "execution_count": 22,
   "id": "rural-leather",
   "metadata": {},
   "outputs": [
    {
     "name": "stdout",
     "output_type": "stream",
     "text": [
      "Delta v1: 0.6432 AU/TU \n",
      "\n",
      "Delta v2: 0.1829 AU/TU\n"
     ]
    }
   ],
   "source": [
    "[dv1, dv2] = Hohmann(r1, r2)\n",
    "print(f'Delta v1: {np.round(dv1, 4)} AU/TU \\n')\n",
    "print(f'Delta v2: {np.round(dv2, 4)} AU/TU')"
   ]
  }
 ],
 "metadata": {
  "kernelspec": {
   "display_name": "Python 3",
   "language": "python",
   "name": "python3"
  },
  "language_info": {
   "codemirror_mode": {
    "name": "ipython",
    "version": 3
   },
   "file_extension": ".py",
   "mimetype": "text/x-python",
   "name": "python",
   "nbconvert_exporter": "python",
   "pygments_lexer": "ipython3",
   "version": "3.9.1"
  }
 },
 "nbformat": 4,
 "nbformat_minor": 5
}
