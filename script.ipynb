{
 "cells": [
  {
   "cell_type": "code",
   "execution_count": 1,
   "id": "nearby-prompt",
   "metadata": {},
   "outputs": [],
   "source": [
    "import numpy as np\n",
    "import sympy as sym\n",
    "from numpy import cos, sin, sqrt, radians, degrees"
   ]
  },
  {
   "cell_type": "code",
   "execution_count": null,
   "id": "floral-heather",
   "metadata": {},
   "outputs": [],
   "source": [
    "def Lambert(r1, r2, theta, t):\n",
    "    \"\"\"\n",
    "    r1: \n",
    "    \"\"\""
   ]
  }
 ],
 "metadata": {
  "kernelspec": {
   "display_name": "Python 3",
   "language": "python",
   "name": "python3"
  },
  "language_info": {
   "codemirror_mode": {
    "name": "ipython",
    "version": 3
   },
   "file_extension": ".py",
   "mimetype": "text/x-python",
   "name": "python",
   "nbconvert_exporter": "python",
   "pygments_lexer": "ipython3",
   "version": "3.9.1"
  }
 },
 "nbformat": 4,
 "nbformat_minor": 5
}
